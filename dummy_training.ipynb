{
 "cells": [
  {
   "cell_type": "code",
   "execution_count": 1,
   "id": "f89fc6bc-91f1-4da9-b193-7f2cc9c39aab",
   "metadata": {},
   "outputs": [],
   "source": [
    "from typing import Tuple\n",
    "\n",
    "import torch\n",
    "from transformer_lens import HookedTransformer, HookedTransformerConfig\n",
    "from transformer_lens.loading_from_pretrained import OFFICIAL_MODEL_NAMES\n",
    "from transformers import AutoModelForCausalLM, AutoTokenizer\n",
    "from transformer_lens import HookedTransformer\n",
    "from sae_training.config import LanguageModelSAERunnerConfig\n",
    "from sae_training.lm_runner import language_model_sae_runner\n",
    "\n",
    "model_name = \"ExplosionNuclear/Llama-2.3-3B-Instruct-special\"  # замените при необходимости\n",
    "device = \"cuda\" if torch.cuda.is_available() else \"cpu\"\n",
    "\n",
    "def get_model(model_name: str, kwargs=dict(torch_dtype=torch.float32)) -> HookedTransformer:\n",
    "    '''\n",
    "    Loads a model from transformer lens or HuggingFace\n",
    "    '''\n",
    "    \n",
    "    if model_name not in OFFICIAL_MODEL_NAMES:\n",
    "        return get_custom_hf_model(model_name, kwargs)\n",
    "    \n",
    "    return HookedTransformer.from_pretrained(model_name)\n",
    "\n",
    "def get_custom_hf_model(model_name: str, kwargs: dict = {}) -> HookedTransformer:\n",
    "    hf_model = AutoModelForCausalLM.from_pretrained(\n",
    "        model_name, \n",
    "        **kwargs\n",
    "    )\n",
    "    tokenizer = AutoTokenizer.from_pretrained(\n",
    "        model_name, \n",
    "    )\n",
    "    \n",
    "    hf_config = hf_model.config\n",
    "    \n",
    "    # Создаем конфигурацию для TransformerLens\n",
    "    # Ограничиваем размер контекста для экономии памяти\n",
    "    max_ctx = min(hf_config.max_position_embeddings, 2048)\n",
    "    \n",
    "    cfg = HookedTransformerConfig(\n",
    "        n_layers=hf_config.num_hidden_layers,\n",
    "        d_model=hf_config.hidden_size,\n",
    "        d_head=hf_config.hidden_size // hf_config.num_attention_heads,\n",
    "        n_heads=hf_config.num_attention_heads,\n",
    "        d_mlp=hf_config.intermediate_size,\n",
    "        d_vocab=hf_config.vocab_size,\n",
    "        n_ctx=max_ctx,  # Ограничиваем размер контекста\n",
    "        act_fn=hf_config.hidden_act,  # Llama использует SiLU\n",
    "        model_name=model_name,\n",
    "        normalization_type=\"RMS\",  # Llama использует RMSNorm\n",
    "        device=\"cpu\"\n",
    "    )\n",
    "    \n",
    "    model = HookedTransformer(cfg)\n",
    "    \n",
    "    model.load_state_dict(hf_model.state_dict(), strict=False)\n",
    "    model.set_tokenizer(tokenizer)\n",
    "    \n",
    "    return model \n"
   ]
  },
  {
   "cell_type": "code",
   "execution_count": 2,
   "id": "174e5354-51a8-47eb-a52c-51577981b974",
   "metadata": {
    "scrolled": true
   },
   "outputs": [
    {
     "data": {
      "application/vnd.jupyter.widget-view+json": {
       "model_id": "18c80184195f4d00a8bc593d1f46d67e",
       "version_major": 2,
       "version_minor": 0
      },
      "text/plain": [
       "Loading checkpoint shards:   0%|          | 0/2 [00:00<?, ?it/s]"
      ]
     },
     "metadata": {},
     "output_type": "display_data"
    },
    {
     "name": "stdout",
     "output_type": "stream",
     "text": [
      "Run name: 3072-L1-0.001-LR-0.0003-Tokens-2.000e+03\n",
      "n_tokens_per_buffer (millions): 0.131072\n",
      "Lower bound: n_contexts_per_buffer (millions): 0.001024\n",
      "Total training steps: 200\n",
      "Total wandb updates: 20\n",
      "n_tokens_per_feature_sampling_window (millions): 2.56\n",
      "n_tokens_per_dead_feature_window (millions): 1.28\n",
      "We will reset the sparsity calculation 0 times.\n",
      "Number tokens in sparsity calculation window: 2.00e+04\n"
     ]
    }
   ],
   "source": [
    "# 1) Грузим модель, чтобы автоматически определить d_in\n",
    "d_type = torch.float32\n",
    "model = get_model(model_name, dict(torch_dtype=d_type))\n",
    "d_in = int(model.cfg.d_model)\n",
    "\n",
    "\n",
    "# 2) Конфиг тренировки SAE\n",
    "cfg = LanguageModelSAERunnerConfig(\n",
    "    # Модель и датасет (лучше нетокенизированный, чтобы токенизировать LLAMA-токенайзером)\n",
    "    model = model,\n",
    "    model_name=model_name,\n",
    "    hook_point=\"blocks.{layer}.hook_resid_pre\",\n",
    "    hook_point_layer=[5],  # выберите слой; можно начать с середины\n",
    "    d_in=d_in,\n",
    "    dataset_path=\"ashaba1in/small_openwebtext\",\n",
    "    is_dataset_tokenized=False,\n",
    "    context_size=128,\n",
    "\n",
    "    # SAE\n",
    "    expansion_factor=1,  # d_sae = d_in * expansion_factor\n",
    "    b_dec_init_method=\"mean\",\n",
    "\n",
    "    # Тренировка\n",
    "    lr=3e-4,\n",
    "    l1_coefficient=1e-3,\n",
    "    lr_scheduler_name=\"constantwithwarmup\",\n",
    "    lr_warm_up_steps=1000,\n",
    "    train_batch_size=10,         # уменьшите, если не хватает памяти\n",
    "    n_batches_in_buffer=64,\n",
    "    total_training_tokens=2_000,  # увеличьте для серьёзного запуска\n",
    "    store_batch_size=16,           # уменьшите/увеличьте под вашу GPU\n",
    "\n",
    "    wandb_project=\"mats_sae_training_llama32\",\n",
    "    wandb_log_frequency=10,\n",
    "    wandb_api_key=\"a89e0ceef33f3c2cc4b7d9d9d5795fa238b4a60c\",\n",
    "    wandb_entity=\"rokser9-lucid-layers\",\n",
    "    eval_every_n_steps=100_000,\n",
    "\n",
    "    logger_backend=\"clearml\",\n",
    "    \n",
    "    n_checkpoints=2,\n",
    "    checkpoint_path=\"checkpoints\",\n",
    "\n",
    "    push_to_hub=True,\n",
    "    hub_repo_id=\"Lucid-Layers-Inc/llama23-sae-resid_pre\",\n",
    "    hub_private=False,\n",
    "\n",
    "    # Прочее\n",
    "    device=device,\n",
    "    seed=42,\n",
    "    dtype=d_type,\n",
    ")\n"
   ]
  },
  {
   "cell_type": "code",
   "execution_count": null,
   "id": "726e44ef-8844-4d58-99b7-5479d1cd37fa",
   "metadata": {
    "collapsed": true,
    "jupyter": {
     "outputs_hidden": true
    },
    "scrolled": true
   },
   "outputs": [
    {
     "name": "stdout",
     "output_type": "stream",
     "text": [
      "ClearML Task: created new task id=0b505cfada784de6a68cbd73221d7efc\n",
      "2025-08-27 13:43:41,331 - clearml.Task - INFO - Storing jupyter notebook directly as code\n",
      "ClearML results page: https://app.clear.ml/projects/396a5b3095514240954c229f8cf08618/experiments/0b505cfada784de6a68cbd73221d7efc/output/log\n",
      "2025-08-27 13:43:43,351 - clearml.log - WARNING - Event reporting sub-process lost, switching to thread based reporting\n"
     ]
    },
    {
     "name": "stderr",
     "output_type": "stream",
     "text": [
      "huggingface/tokenizers: The current process just got forked, after parallelism has already been used. Disabling parallelism to avoid deadlocks...\n",
      "To disable this warning, you can either:\n",
      "\t- Avoid using `tokenizers` before the fork if possible\n",
      "\t- Explicitly set the environment variable TOKENIZERS_PARALLELISM=(true | false)\n"
     ]
    },
    {
     "name": "stdout",
     "output_type": "stream",
     "text": [
      "Moving model to device:  cuda\n",
      "Run name: 3072-L1-0.001-LR-0.0003-Tokens-2.000e+03\n",
      "n_tokens_per_buffer (millions): 0.131072\n",
      "Lower bound: n_contexts_per_buffer (millions): 0.001024\n",
      "Total training steps: 200\n",
      "Total wandb updates: 20\n",
      "n_tokens_per_feature_sampling_window (millions): 2.56\n",
      "n_tokens_per_dead_feature_window (millions): 1.28\n",
      "We will reset the sparsity calculation 0 times.\n",
      "Number tokens in sparsity calculation window: 2.00e+04\n",
      "Run name: 3072-L1-0.001-LR-0.0003-Tokens-2.000e+03\n",
      "n_tokens_per_buffer (millions): 0.131072\n",
      "Lower bound: n_contexts_per_buffer (millions): 0.001024\n",
      "Total training steps: 200\n",
      "Total wandb updates: 20\n",
      "n_tokens_per_feature_sampling_window (millions): 2.56\n",
      "n_tokens_per_dead_feature_window (millions): 1.28\n",
      "We will reset the sparsity calculation 0 times.\n",
      "Number tokens in sparsity calculation window: 2.00e+04\n",
      "Reinitializing b_dec with mean of activations\n",
      "Previous distances: 93.31073760986328\n",
      "New distances: 64.46891784667969\n"
     ]
    },
    {
     "name": "stderr",
     "output_type": "stream",
     "text": [
      "100| MSE Loss 0.035 | L1 1.919:  50%|███████████████████████████████████████████████                                                | 990/2000 [00:00<00:00, 1537.26it/s]"
     ]
    },
    {
     "name": "stdout",
     "output_type": "stream",
     "text": [
      "Saved model to checkpoints/dr7rq6rv/1010_sae_group_ExplosionNuclear/Llama-2.3-3B-Instruct-special_blocks.5.hook_resid_pre_3072.safetensors\n"
     ]
    },
    {
     "data": {
      "application/vnd.jupyter.widget-view+json": {
       "model_id": "e35a2774ef104388a86654f0aa2279f9",
       "version_major": 2,
       "version_minor": 0
      },
      "text/plain": [
       "Llama-2.3-3B-Instruct-special_blocks.5.hook_resid_pre_3072.safetensors:   0%|          | 0.00/75.5M [00:00<?, …"
      ]
     },
     "metadata": {},
     "output_type": "display_data"
    },
    {
     "name": "stderr",
     "output_type": "stream",
     "text": [
      "100| MSE Loss 0.035 | L1 1.919:  50%|███████████████████████████████████████████████                                               | 1000/2000 [00:12<00:00, 1537.26it/s]"
     ]
    },
    {
     "data": {
      "application/vnd.jupyter.widget-view+json": {
       "model_id": "7127e8eeddf942f799c07a3c46ef2f37",
       "version_major": 2,
       "version_minor": 0
      },
      "text/plain": [
       "Llama-2.3-3B-Instruct-special_blocks.5.hook_resid_pre_3072_log_feature_sparsity.pt:   0%|          | 0.00/14.1…"
      ]
     },
     "metadata": {},
     "output_type": "display_data"
    },
    {
     "name": "stderr",
     "output_type": "stream",
     "text": [
      "200| MSE Loss 0.032 | L1 1.787: 100%|██████████████████████████████████████████████████████████████████████████████████████████████▌| 1990/2000 [00:18<00:00, 204.65it/s]"
     ]
    },
    {
     "name": "stdout",
     "output_type": "stream",
     "text": [
      "Saved model to checkpoints/dr7rq6rv/final_sae_group_ExplosionNuclear/Llama-2.3-3B-Instruct-special_blocks.5.hook_resid_pre_3072.safetensors\n"
     ]
    },
    {
     "data": {
      "application/vnd.jupyter.widget-view+json": {
       "model_id": "664c2bd40dd74a59a7282287022bc0dd",
       "version_major": 2,
       "version_minor": 0
      },
      "text/plain": [
       "Llama-2.3-3B-Instruct-special_blocks.5.hook_resid_pre_3072.safetensors:   0%|          | 0.00/75.5M [00:00<?, …"
      ]
     },
     "metadata": {},
     "output_type": "display_data"
    },
    {
     "data": {
      "application/vnd.jupyter.widget-view+json": {
       "model_id": "84fae0af1c8c41019de18f62291107df",
       "version_major": 2,
       "version_minor": 0
      },
      "text/plain": [
       "Llama-2.3-3B-Instruct-special_blocks.5.hook_resid_pre_3072_log_feature_sparsity.pt:   0%|          | 0.00/14.1…"
      ]
     },
     "metadata": {},
     "output_type": "display_data"
    },
    {
     "name": "stderr",
     "output_type": "stream",
     "text": [
      "200| MSE Loss 0.032 | L1 1.787: 100%|████████████████████████████████████████████████████████████████████████████████████████████████| 2000/2000 [00:30<00:00, 65.52it/s]\n"
     ]
    }
   ],
   "source": [
    "from dotenv import load_dotenv\n",
    "\n",
    "\n",
    "load_dotenv()\n",
    "cfg.dataset_path\n",
    "_ = language_model_sae_runner(cfg)\n",
    "print(\"Training finished\")"
   ]
  },
  {
   "cell_type": "code",
   "execution_count": 4,
   "id": "b7ffe77f-edab-49bd-bc1c-04800f49e1d3",
   "metadata": {},
   "outputs": [
    {
     "name": "stdout",
     "output_type": "stream",
     "text": [
      "Run name: 3072-L1-0.001-LR-0.0003-Tokens-2.000e+06\n",
      "n_tokens_per_buffer (millions): 0.08192\n",
      "Lower bound: n_contexts_per_buffer (millions): 0.00064\n",
      "Total training steps: 488\n",
      "Total wandb updates: 48\n",
      "n_tokens_per_feature_sampling_window (millions): 1048.576\n",
      "n_tokens_per_dead_feature_window (millions): 524.288\n",
      "We will reset the sparsity calculation 0 times.\n",
      "Number tokens in sparsity calculation window: 8.19e+06\n",
      "Run name: 3072-L1-0.001-LR-0.0003-Tokens-2.000e+06\n",
      "n_tokens_per_buffer (millions): 0.08192\n",
      "Lower bound: n_contexts_per_buffer (millions): 0.00064\n",
      "Total training steps: 488\n",
      "Total wandb updates: 48\n",
      "n_tokens_per_feature_sampling_window (millions): 1048.576\n",
      "n_tokens_per_dead_feature_window (millions): 524.288\n",
      "We will reset the sparsity calculation 0 times.\n",
      "Number tokens in sparsity calculation window: 8.19e+06\n",
      "Run name: 3072-L1-0.001-LR-0.0003-Tokens-2.000e+06\n",
      "n_tokens_per_buffer (millions): 0.08192\n",
      "Lower bound: n_contexts_per_buffer (millions): 0.00064\n",
      "Total training steps: 488\n",
      "Total wandb updates: 48\n",
      "n_tokens_per_feature_sampling_window (millions): 1048.576\n",
      "n_tokens_per_dead_feature_window (millions): 524.288\n",
      "We will reset the sparsity calculation 0 times.\n",
      "Number tokens in sparsity calculation window: 8.19e+06\n",
      "Run name: 3072-L1-0.001-LR-0.0003-Tokens-2.000e+06\n",
      "n_tokens_per_buffer (millions): 0.08192\n",
      "Lower bound: n_contexts_per_buffer (millions): 0.00064\n",
      "Total training steps: 488\n",
      "Total wandb updates: 48\n",
      "n_tokens_per_feature_sampling_window (millions): 1048.576\n",
      "n_tokens_per_dead_feature_window (millions): 524.288\n",
      "We will reset the sparsity calculation 0 times.\n",
      "Number tokens in sparsity calculation window: 8.19e+06\n",
      "Moving model to device:  cuda\n",
      "Run name: 3072-L1-0.001-LR-0.0003-Tokens-2.000e+03\n",
      "n_tokens_per_buffer (millions): 0.131072\n",
      "Lower bound: n_contexts_per_buffer (millions): 0.001024\n",
      "Total training steps: 200\n",
      "Total wandb updates: 20\n",
      "n_tokens_per_feature_sampling_window (millions): 2.56\n",
      "n_tokens_per_dead_feature_window (millions): 1.28\n",
      "We will reset the sparsity calculation 0 times.\n",
      "Number tokens in sparsity calculation window: 2.00e+04\n",
      "Run name: 3072-L1-0.001-LR-0.0003-Tokens-2.000e+03\n",
      "n_tokens_per_buffer (millions): 0.131072\n",
      "Lower bound: n_contexts_per_buffer (millions): 0.001024\n",
      "Total training steps: 200\n",
      "Total wandb updates: 20\n",
      "n_tokens_per_feature_sampling_window (millions): 2.56\n",
      "n_tokens_per_dead_feature_window (millions): 1.28\n",
      "We will reset the sparsity calculation 0 times.\n",
      "Number tokens in sparsity calculation window: 2.00e+04\n"
     ]
    }
   ],
   "source": [
    "from sae_training.utils import LMSparseAutoencoderSessionloader\n",
    "\n",
    "\n",
    "path = \"checkpoints/dr7rq6rv/1010_sae_group_ExplosionNuclear/Llama-2.3-3B-Instruct-special_blocks.5.hook_resid_pre_3072.safetensors\"\n",
    "model, sparse_autoencoders, activation_store = (\n",
    "    LMSparseAutoencoderSessionloader.load_session_from_pretrained(path, dataclasses.asdict(cfg))\n",
    ")"
   ]
  },
  {
   "cell_type": "code",
   "execution_count": 1,
   "id": "34ef9567-966d-4a78-adaa-c6bfd78b2b78",
   "metadata": {},
   "outputs": [
    {
     "ename": "NameError",
     "evalue": "name 'path' is not defined",
     "output_type": "error",
     "traceback": [
      "\u001b[0;31m---------------------------------------------------------------------------\u001b[0m",
      "\u001b[0;31mNameError\u001b[0m                                 Traceback (most recent call last)",
      "Cell \u001b[0;32mIn[1], line 4\u001b[0m\n\u001b[1;32m      1\u001b[0m \u001b[38;5;28;01mfrom\u001b[39;00m\u001b[38;5;250m \u001b[39m\u001b[38;5;21;01msafetensors\u001b[39;00m\u001b[38;5;21;01m.\u001b[39;00m\u001b[38;5;21;01mtorch\u001b[39;00m\u001b[38;5;250m \u001b[39m\u001b[38;5;28;01mimport\u001b[39;00m load_file \u001b[38;5;28;01mas\u001b[39;00m safetensors_load_file\n\u001b[0;32m----> 4\u001b[0m tensors \u001b[38;5;241m=\u001b[39m safetensors_load_file(\u001b[43mpath\u001b[49m, device\u001b[38;5;241m=\u001b[39m\u001b[38;5;124m\"\u001b[39m\u001b[38;5;124mcpu\u001b[39m\u001b[38;5;124m\"\u001b[39m)\n",
      "\u001b[0;31mNameError\u001b[0m: name 'path' is not defined"
     ]
    }
   ],
   "source": [
    "from safetensors.torch import load_file as safetensors_load_file\n",
    "\n",
    "\n",
    "tensors = safetensors_load_file(path, device=\"cpu\")"
   ]
  },
  {
   "cell_type": "code",
   "execution_count": 5,
   "id": "914b0ed1-f528-406c-9e03-df60af33910d",
   "metadata": {},
   "outputs": [
    {
     "data": {
      "text/plain": [
       "dict_keys(['0.W_dec', '0.W_enc', '0.b_dec', '0.b_enc'])"
      ]
     },
     "execution_count": 5,
     "metadata": {},
     "output_type": "execute_result"
    }
   ],
   "source": [
    "tensors.keys()"
   ]
  },
  {
   "cell_type": "code",
   "execution_count": 6,
   "id": "523c9b18-8d8a-4c39-a061-5f35f1e97a18",
   "metadata": {},
   "outputs": [],
   "source": [
    "indices: set[int] = set()\n",
    "for key in tensors.keys():\n",
    "    if \".\" not in key:\n",
    "        continue\n",
    "    idx_str, _ = key.split(\".\", 1)\n",
    "    try:\n",
    "        indices.add(int(idx_str))\n",
    "    except ValueError:\n",
    "        continue"
   ]
  },
  {
   "cell_type": "code",
   "execution_count": 7,
   "id": "87ad2145-8702-475d-aead-97fd867f8768",
   "metadata": {},
   "outputs": [
    {
     "data": {
      "text/plain": [
       "{0}"
      ]
     },
     "execution_count": 7,
     "metadata": {},
     "output_type": "execute_result"
    }
   ],
   "source": [
    "indices"
   ]
  },
  {
   "cell_type": "code",
   "execution_count": 10,
   "id": "5a35830d-9089-4f53-a73d-de8f01d9acc2",
   "metadata": {},
   "outputs": [],
   "source": [
    "w_dec = tensors.get(f\"{0}.W_enc\")"
   ]
  },
  {
   "cell_type": "code",
   "execution_count": 11,
   "id": "249e1723-b011-44bf-ace8-a691038e1d81",
   "metadata": {},
   "outputs": [
    {
     "data": {
      "text/plain": [
       "torch.Size([3072, 3072])"
      ]
     },
     "execution_count": 11,
     "metadata": {},
     "output_type": "execute_result"
    }
   ],
   "source": [
    "w_dec.shape"
   ]
  },
  {
   "cell_type": "code",
   "execution_count": null,
   "id": "1d08c68d-6beb-4c01-9f5d-1df162b1f47e",
   "metadata": {},
   "outputs": [],
   "source": []
  }
 ],
 "metadata": {
  "kernelspec": {
   "display_name": "Python 3 (ipykernel)",
   "language": "python",
   "name": "python3"
  },
  "language_info": {
   "codemirror_mode": {
    "name": "ipython",
    "version": 3
   },
   "file_extension": ".py",
   "mimetype": "text/x-python",
   "name": "python",
   "nbconvert_exporter": "python",
   "pygments_lexer": "ipython3",
   "version": "3.10.12"
  }
 },
 "nbformat": 4,
 "nbformat_minor": 5
}
